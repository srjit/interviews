{
 "cells": [
  {
   "cell_type": "code",
   "execution_count": 1,
   "id": "dc924aca-580c-4735-a0da-48dee5aca62f",
   "metadata": {},
   "outputs": [],
   "source": [
    "import random"
   ]
  },
  {
   "cell_type": "code",
   "execution_count": 2,
   "id": "d6bbcdc5-aeef-4f64-83dd-d1731a177578",
   "metadata": {},
   "outputs": [
    {
     "name": "stdout",
     "output_type": "stream",
     "text": [
      "Collecting seaborn\n",
      "  Downloading seaborn-0.11.2-py3-none-any.whl (292 kB)\n",
      "     |████████████████████████████████| 292 kB 4.4 MB/s            \n",
      "\u001b[?25hCollecting plotly\n",
      "  Downloading plotly-5.5.0-py2.py3-none-any.whl (26.5 MB)\n",
      "     |████████████████████████████████| 26.5 MB 31.6 MB/s            \n",
      "\u001b[?25hRequirement already satisfied: scipy>=1.0 in /Users/sreejithsreekumar/venvs/mllib2/lib/python3.7/site-packages (from seaborn) (1.7.3)\n",
      "Requirement already satisfied: matplotlib>=2.2 in /Users/sreejithsreekumar/venvs/mllib2/lib/python3.7/site-packages (from seaborn) (3.5.1)\n",
      "Requirement already satisfied: numpy>=1.15 in /Users/sreejithsreekumar/venvs/mllib2/lib/python3.7/site-packages (from seaborn) (1.21.5)\n",
      "Requirement already satisfied: pandas>=0.23 in /Users/sreejithsreekumar/venvs/mllib2/lib/python3.7/site-packages (from seaborn) (1.3.5)\n",
      "Collecting tenacity>=6.2.0\n",
      "  Downloading tenacity-8.0.1-py3-none-any.whl (24 kB)\n",
      "Requirement already satisfied: six in /Users/sreejithsreekumar/venvs/mllib2/lib/python3.7/site-packages (from plotly) (1.16.0)\n",
      "Requirement already satisfied: cycler>=0.10 in /Users/sreejithsreekumar/venvs/mllib2/lib/python3.7/site-packages (from matplotlib>=2.2->seaborn) (0.11.0)\n",
      "Requirement already satisfied: kiwisolver>=1.0.1 in /Users/sreejithsreekumar/venvs/mllib2/lib/python3.7/site-packages (from matplotlib>=2.2->seaborn) (1.3.2)\n",
      "Requirement already satisfied: pillow>=6.2.0 in /Users/sreejithsreekumar/venvs/mllib2/lib/python3.7/site-packages (from matplotlib>=2.2->seaborn) (8.4.0)\n",
      "Requirement already satisfied: fonttools>=4.22.0 in /Users/sreejithsreekumar/venvs/mllib2/lib/python3.7/site-packages (from matplotlib>=2.2->seaborn) (4.28.5)\n",
      "Requirement already satisfied: packaging>=20.0 in /Users/sreejithsreekumar/venvs/mllib2/lib/python3.7/site-packages (from matplotlib>=2.2->seaborn) (21.3)\n",
      "Requirement already satisfied: pyparsing>=2.2.1 in /Users/sreejithsreekumar/venvs/mllib2/lib/python3.7/site-packages (from matplotlib>=2.2->seaborn) (3.0.6)\n",
      "Requirement already satisfied: python-dateutil>=2.7 in /Users/sreejithsreekumar/venvs/mllib2/lib/python3.7/site-packages (from matplotlib>=2.2->seaborn) (2.8.2)\n",
      "Requirement already satisfied: pytz>=2017.3 in /Users/sreejithsreekumar/venvs/mllib2/lib/python3.7/site-packages (from pandas>=0.23->seaborn) (2021.3)\n",
      "Installing collected packages: tenacity, seaborn, plotly\n",
      "Successfully installed plotly-5.5.0 seaborn-0.11.2 tenacity-8.0.1\n",
      "Note: you may need to restart the kernel to use updated packages.\n"
     ]
    }
   ],
   "source": [
    "pip install seaborn plotly"
   ]
  },
  {
   "cell_type": "code",
   "execution_count": 4,
   "id": "4f5933f6-16db-4c7d-ae9f-65d0a0928dfb",
   "metadata": {},
   "outputs": [
    {
     "name": "stdout",
     "output_type": "stream",
     "text": [
      "Help on method randint in module random:\n",
      "\n",
      "randint(a, b) method of random.Random instance\n",
      "    Return random integer in range [a, b], including both end points.\n",
      "\n"
     ]
    }
   ],
   "source": [
    "help(random.randint)"
   ]
  },
  {
   "cell_type": "code",
   "execution_count": null,
   "id": "f74caed3-4e75-42e6-8ab1-fde45d60a844",
   "metadata": {},
   "outputs": [],
   "source": []
  }
 ],
 "metadata": {
  "kernelspec": {
   "display_name": "mllib2-Python3.7",
   "language": "python",
   "name": "mllib2-python3.7"
  },
  "language_info": {
   "codemirror_mode": {
    "name": "ipython",
    "version": 3
   },
   "file_extension": ".py",
   "mimetype": "text/x-python",
   "name": "python",
   "nbconvert_exporter": "python",
   "pygments_lexer": "ipython3",
   "version": "3.7.9"
  }
 },
 "nbformat": 4,
 "nbformat_minor": 5
}
