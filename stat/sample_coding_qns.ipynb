{
 "cells": [
  {
   "cell_type": "markdown",
   "id": "7c207f91-07cb-4106-be9b-84cfed4e4627",
   "metadata": {},
   "source": [
    "## Sample Questions\n",
    "-----"
   ]
  },
  {
   "cell_type": "markdown",
   "id": "91dfa8aa-9d75-4016-8bd2-05109277f82b",
   "metadata": {},
   "source": [
    "> ### 1. Create a normal distribution, sample it, and plot it"
   ]
  },
  {
   "cell_type": "code",
   "execution_count": 1,
   "id": "f99bae5f-b352-43a3-a054-85dba87e7c33",
   "metadata": {},
   "outputs": [
    {
     "data": {
      "image/png": "[encoded data removed]",
      "text/plain": [
       "<Figure size 432x288 with 1 Axes>"
      ]
     },
     "metadata": {
      "needs_background": "light"
     },
     "output_type": "display_data"
    }
   ],
   "source": [
    "import numpy as np\n",
    "import matplotlib.pyplot as plt\n",
    "\n",
    "normal_dist_points  = np.random.normal(0, 1, 1000)\n",
    "\n",
    "plt.figure()\n",
    "plt.hist(normal_dist_points, density=True, bins=10, alpha=0.5)\n",
    "plt.show()"
   ]
  },
  {
   "cell_type": "markdown",
   "id": "364e4b2b-d86f-433c-8e08-39fdb3e98adb",
   "metadata": {},
   "source": [
    "> ### 2. How to generate a matrix that follows Bernoulli distribution in python"
   ]
  },
  {
   "cell_type": "markdown",
   "id": "f5306169-5531-4fce-b5b7-891ee3780697",
   "metadata": {},
   "source": [
    "$f(k, p) = p^k (1-p)^(1-k)\\ for\\ k \\in \\{0, 1\\}$"
   ]
  },
  {
   "cell_type": "code",
   "execution_count": 4,
   "id": "a669298f-7240-4481-a5dc-4763e57c4c73",
   "metadata": {},
   "outputs": [],
   "source": [
    "def bernoulli_pmf(x,p=0.5):\n",
    "    \n",
    "    f = p**x*(1-p)**(1-x)\n",
    "    return f\n",
    "\n",
    "\n",
    "def get_random_bernoulli(p=0.5):\n",
    "    \n",
    "    if np.random.rand() <= p:\n",
    "        return 0\n",
    "    else:\n",
    "        return 1"
   ]
  },
  {
   "cell_type": "code",
   "execution_count": 7,
   "id": "0742cb1d-bff9-42b6-b365-e29ef51a666b",
   "metadata": {},
   "outputs": [
    {
     "data": {
      "text/plain": [
       "array([[1, 1, 0, 0],\n",
       "       [1, 1, 1, 0],\n",
       "       [0, 1, 1, 0],\n",
       "       [0, 0, 0, 0]])"
      ]
     },
     "execution_count": 7,
     "metadata": {},
     "output_type": "execute_result"
    }
   ],
   "source": [
    "bernoulli = np.array([[get_random_bernoulli() for j in range(4)] for i in range(4)])\n",
    "bernoulli"
   ]
  },
  {
   "cell_type": "markdown",
   "id": "561b49b1-5b6a-41fd-b4bc-41bfeb1abfb8",
   "metadata": {},
   "source": [
    "> ### 3. Divide each element of the matrix with sum of columns"
   ]
  },
  {
   "cell_type": "code",
   "execution_count": 12,
   "id": "d7578def-d4f7-4cbe-9d6f-e2c1bc529b4e",
   "metadata": {},
   "outputs": [
    {
     "data": {
      "text/plain": [
       "array([[0.14285714, 0.14285714, 0.        , 0.        ],\n",
       "       [0.14285714, 0.14285714, 0.14285714, 0.        ],\n",
       "       [0.        , 0.14285714, 0.14285714, 0.        ],\n",
       "       [0.        , 0.        , 0.        , 0.        ]])"
      ]
     },
     "execution_count": 12,
     "metadata": {},
     "output_type": "execute_result"
    }
   ],
   "source": [
    "bernoulli/bernoulli.sum()"
   ]
  },
  {
   "cell_type": "code",
   "execution_count": null,
   "id": "838778fd-2cef-4442-a7de-da5b346f9124",
   "metadata": {},
   "outputs": [],
   "source": []
  }
 ],
 "metadata": {
  "kernelspec": {
   "display_name": "mllib2-Python3.7",
   "language": "python",
   "name": "mllib2-python3.7"
  },
  "language_info": {
   "codemirror_mode": {
    "name": "ipython",
    "version": 3
   },
   "file_extension": ".py",
   "mimetype": "text/x-python",
   "name": "python",
   "nbconvert_exporter": "python",
   "pygments_lexer": "ipython3",
   "version": "3.7.9"
  }
 },
 "nbformat": 4,
 "nbformat_minor": 5
}
