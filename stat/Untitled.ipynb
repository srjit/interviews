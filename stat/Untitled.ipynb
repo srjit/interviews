{
 "cells": [
  {
   "cell_type": "code",
   "execution_count": 1,
   "id": "37b6ab16-b868-4665-8a6e-1de6e6ef09ba",
   "metadata": {},
   "outputs": [],
   "source": [
    "from scipy import stats"
   ]
  },
  {
   "cell_type": "code",
   "execution_count": 6,
   "id": "7faf4c27-e1f0-4e89-a7cd-64fa10f9eedf",
   "metadata": {},
   "outputs": [
    {
     "data": {
      "text/plain": [
       "-1.7171443743802424"
      ]
     },
     "execution_count": 6,
     "metadata": {},
     "output_type": "execute_result"
    }
   ],
   "source": [
    "stats.t.ppf(q=.05,df=22)"
   ]
  },
  {
   "cell_type": "code",
   "execution_count": 7,
   "id": "c69dbbfb-e0c6-40b2-bccc-0f27e36042ca",
   "metadata": {},
   "outputs": [],
   "source": [
    "#f the absolute value of the test statistic is greater than the T critical value, then the results of the test are statistically significant."
   ]
  },
  {
   "cell_type": "code",
   "execution_count": null,
   "id": "409d2d17-2961-4d28-ada2-4f788b268992",
   "metadata": {},
   "outputs": [],
   "source": []
  }
 ],
 "metadata": {
  "kernelspec": {
   "display_name": "mllib",
   "language": "python",
   "name": "mllib"
  },
  "language_info": {
   "codemirror_mode": {
    "name": "ipython",
    "version": 3
   },
   "file_extension": ".py",
   "mimetype": "text/x-python",
   "name": "python",
   "nbconvert_exporter": "python",
   "pygments_lexer": "ipython3",
   "version": "3.10.1"
  }
 },
 "nbformat": 4,
 "nbformat_minor": 5
}
