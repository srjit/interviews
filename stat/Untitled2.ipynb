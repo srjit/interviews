{
 "cells": [
  {
   "cell_type": "markdown",
   "id": "b2dc85e2-240c-4d1d-91c3-0873ea09fe75",
   "metadata": {},
   "source": [
    "https://gist.github.com/yonghyeokrhee/f56e4f6eb6589774cd3b73bfdf8348e7"
   ]
  },
  {
   "cell_type": "code",
   "execution_count": null,
   "id": "d7a75139-ccb7-433a-bfef-8fdab8590385",
   "metadata": {},
   "outputs": [],
   "source": []
  }
 ],
 "metadata": {
  "kernelspec": {
   "display_name": "mllib2-Python3.7",
   "language": "python",
   "name": "mllib2-python3.7"
  },
  "language_info": {
   "codemirror_mode": {
    "name": "ipython",
    "version": 3
   },
   "file_extension": ".py",
   "mimetype": "text/x-python",
   "name": "python",
   "nbconvert_exporter": "python",
   "pygments_lexer": "ipython3",
   "version": "3.7.9"
  }
 },
 "nbformat": 4,
 "nbformat_minor": 5
}
