{
 "cells": [
  {
   "cell_type": "markdown",
   "id": "f9089529-c78f-438d-9a83-abea08341458",
   "metadata": {},
   "source": [
    "TTest\n",
    "----\n",
    "\n",
    "If abs(t-statistic) <= critical value: Accept null hypothesis that the means are equal.\n",
    "\n",
    "If abs(t-statistic) > critical value: Reject the null hypothesis that the means are equal.\n"
   ]
  },
  {
   "cell_type": "markdown",
   "id": "47fdbcfe-620d-4e5a-8d61-e304f5c22281",
   "metadata": {},
   "source": [
    "If p > alpha: Accept null hypothesis that the means are equal.\n",
    "\n",
    "If p <= alpha: Reject null hypothesis that the means are equal."
   ]
  },
  {
   "cell_type": "markdown",
   "id": "361462ed-f409-4038-abdf-b0c7be8274a0",
   "metadata": {},
   "source": [
    "t = observed difference between sample means / standard error of the difference between the means\n",
    "\n",
    "t = (mean(X1) - mean(X2)) / sed\n"
   ]
  },
  {
   "cell_type": "markdown",
   "id": "260f39f6-c82d-48a7-952d-6f1a79f5d69d",
   "metadata": {},
   "source": [
    "sed = sqrt(se1^2 + se2^2)"
   ]
  },
  {
   "cell_type": "markdown",
   "id": "3a7bd840-946b-4aa3-8de6-6172bc77096f",
   "metadata": {},
   "source": [
    "se = std / sqrt(n)"
   ]
  },
  {
   "cell_type": "markdown",
   "id": "2e12dbdf-6d27-45f3-803c-1737733f908b",
   "metadata": {},
   "source": [
    "\n",
    "_Implementation_\n",
    "---"
   ]
  },
  {
   "cell_type": "raw",
   "id": "2a24640c-68b2-4453-8e84-808f87947639",
   "metadata": {},
   "source": [
    "from numpy import mean, std\n",
    "\n",
    "mean1, mean2 = mean(data1), mean(data2)\n",
    "std1, std2 = std(data1, ddof=1), std(data2, ddof=1)\n",
    "se1, se2 = sem(data1), sem(data2)\n",
    "\n",
    "sed = sqrt(se1**2.0 + se2**2.0)\n",
    "\n",
    "t_stat = (mean1 - mean2) / sed\n",
    "df = n1 + n2 - 2\n",
    "\n",
    "\n",
    "# calculate the critical value\n",
    "alpha = 0.05\n",
    "cv = t.ppf(1.0 - alpha, df)\n",
    "\n",
    "p = (1 - t.cdf(abs(t_stat), df)) * 2"
   ]
  },
  {
   "cell_type": "code",
   "execution_count": 1,
   "id": "93570cc7-47ae-4873-b4f2-2a16f7a3a0f0",
   "metadata": {},
   "outputs": [],
   "source": [
    "\n",
    "# function for calculating the t-test for two independent samples\n",
    "def independent_ttest(data1, data2, alpha):\n",
    "\t# calculate means\n",
    "\tmean1, mean2 = mean(data1), mean(data2)\n",
    "\t# calculate standard errors\n",
    "\tse1, se2 = sem(data1), sem(data2)\n",
    "\t# standard error on the difference between the samples\n",
    "\tsed = sqrt(se1**2.0 + se2**2.0)\n",
    "\t# calculate the t statistic\n",
    "\tt_stat = (mean1 - mean2) / sed\n",
    "\t# degrees of freedom\n",
    "\tdf = len(data1) + len(data2) - 2\n",
    "\t# calculate the critical value\n",
    "\tcv = t.ppf(1.0 - alpha, df)\n",
    "\t# calculate the p-value\n",
    "\tp = (1.0 - t.cdf(abs(t_stat), df)) * 2.0\n",
    "\t# return everything\n",
    "\treturn t_stat, df, cv, p"
   ]
  },
  {
   "cell_type": "code",
   "execution_count": 6,
   "id": "2b124d6e-132f-4b25-97d9-5ecbaf16cb53",
   "metadata": {},
   "outputs": [
    {
     "name": "stdout",
     "output_type": "stream",
     "text": [
      "t=-2.262, p=0.025\n"
     ]
    }
   ],
   "source": [
    "\n",
    "# Student's t-test for independent samples\n",
    "from numpy.random import seed\n",
    "from numpy.random import randn\n",
    "from scipy.stats import ttest_ind\n",
    "# seed the random number generator\n",
    "seed(1)\n",
    "\n",
    "\n",
    "# generate two independent samples\n",
    "data1 = 5 * randn(100) + 50\n",
    "data2 = 5 * randn(100) + 51\n",
    "\n",
    "# compare samples\n",
    "stat, p = ttest_ind(data1, data2)\n",
    "print('t=%.3f, p=%.3f' % (stat, p))"
   ]
  },
  {
   "cell_type": "code",
   "execution_count": 8,
   "id": "d2b57032-261e-4f52-ba04-0930c7a4c6f8",
   "metadata": {},
   "outputs": [
    {
     "ename": "NameError",
     "evalue": "name 'cv' is not defined",
     "output_type": "error",
     "traceback": [
      "\u001b[0;31m---------------------------------------------------------------------------\u001b[0m",
      "\u001b[0;31mNameError\u001b[0m                                 Traceback (most recent call last)",
      "\u001b[0;32m/var/folders/gh/tdqdcp611d5c7yv0b0np772c0000gn/T/ipykernel_53422/3580485138.py\u001b[0m in \u001b[0;36m<module>\u001b[0;34m\u001b[0m\n\u001b[1;32m      1\u001b[0m \u001b[0;31m# interpret via critical value\u001b[0m\u001b[0;34m\u001b[0m\u001b[0;34m\u001b[0m\u001b[0;34m\u001b[0m\u001b[0m\n\u001b[0;32m----> 2\u001b[0;31m \u001b[0;32mif\u001b[0m \u001b[0mabs\u001b[0m\u001b[0;34m(\u001b[0m\u001b[0mstat\u001b[0m\u001b[0;34m)\u001b[0m \u001b[0;34m<=\u001b[0m \u001b[0mcv\u001b[0m\u001b[0;34m:\u001b[0m\u001b[0;34m\u001b[0m\u001b[0;34m\u001b[0m\u001b[0m\n\u001b[0m\u001b[1;32m      3\u001b[0m         \u001b[0mprint\u001b[0m\u001b[0;34m(\u001b[0m\u001b[0;34m'Accept null hypothesis that the means are equal.'\u001b[0m\u001b[0;34m)\u001b[0m\u001b[0;34m\u001b[0m\u001b[0;34m\u001b[0m\u001b[0m\n\u001b[1;32m      4\u001b[0m \u001b[0;32melse\u001b[0m\u001b[0;34m:\u001b[0m\u001b[0;34m\u001b[0m\u001b[0;34m\u001b[0m\u001b[0m\n\u001b[1;32m      5\u001b[0m         \u001b[0mprint\u001b[0m\u001b[0;34m(\u001b[0m\u001b[0;34m'Reject the null hypothesis that the means are equal.'\u001b[0m\u001b[0;34m)\u001b[0m\u001b[0;34m\u001b[0m\u001b[0;34m\u001b[0m\u001b[0m\n",
      "\u001b[0;31mNameError\u001b[0m: name 'cv' is not defined"
     ]
    }
   ],
   "source": [
    "# interpret via critical value\n",
    "if abs(stat) <= cv:\n",
    "\tprint('Accept null hypothesis that the means are equal.')\n",
    "else:\n",
    "\tprint('Reject the null hypothesis that the means are equal.')"
   ]
  },
  {
   "cell_type": "code",
   "execution_count": null,
   "id": "9b0e082d-6721-4cdb-94ec-b65f8d42c4da",
   "metadata": {},
   "outputs": [],
   "source": []
  }
 ],
 "metadata": {
  "kernelspec": {
   "display_name": "mllib2-Python3.7",
   "language": "python",
   "name": "mllib2-python3.7"
  },
  "language_info": {
   "codemirror_mode": {
    "name": "ipython",
    "version": 3
   },
   "file_extension": ".py",
   "mimetype": "text/x-python",
   "name": "python",
   "nbconvert_exporter": "python",
   "pygments_lexer": "ipython3",
   "version": "3.7.9"
  }
 },
 "nbformat": 4,
 "nbformat_minor": 5
}
