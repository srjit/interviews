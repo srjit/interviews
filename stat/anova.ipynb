{
 "cells": [
  {
   "cell_type": "markdown",
   "id": "c7dd7f8b-07c1-4588-9ad0-14f1defbb875",
   "metadata": {},
   "source": [
    "_ANOVA_\n",
    "\n",
    "https://www.marsja.se/four-ways-to-conduct-one-way-anovas-using-python/"
   ]
  },
  {
   "cell_type": "code",
   "execution_count": 1,
   "id": "1675187d-ff80-4145-be25-6dfd50f22285",
   "metadata": {},
   "outputs": [],
   "source": [
    "import statsmodels.api as sm\n",
    "from statsmodels.formula.api import ols\n",
    "import pandas as pd"
   ]
  },
  {
   "cell_type": "code",
   "execution_count": 2,
   "id": "221c7723-7811-4525-899a-99ad2d3ea69b",
   "metadata": {},
   "outputs": [],
   "source": [
    "data = pd.read_csv(\"PlantGrowth.csv\")"
   ]
  },
  {
   "cell_type": "code",
   "execution_count": 3,
   "id": "4af70a37-f2ed-430d-b02e-67c8deb9dfeb",
   "metadata": {},
   "outputs": [
    {
     "data": {
      "text/html": [
       "<div>\n",
       "<style scoped>\n",
       "    .dataframe tbody tr th:only-of-type {\n",
       "        vertical-align: middle;\n",
       "    }\n",
       "\n",
       "    .dataframe tbody tr th {\n",
       "        vertical-align: top;\n",
       "    }\n",
       "\n",
       "    .dataframe thead th {\n",
       "        text-align: right;\n",
       "    }\n",
       "</style>\n",
       "<table border=\"1\" class=\"dataframe\">\n",
       "  <thead>\n",
       "    <tr style=\"text-align: right;\">\n",
       "      <th></th>\n",
       "      <th>Unnamed: 0</th>\n",
       "      <th>weight</th>\n",
       "      <th>group</th>\n",
       "    </tr>\n",
       "  </thead>\n",
       "  <tbody>\n",
       "    <tr>\n",
       "      <th>0</th>\n",
       "      <td>1</td>\n",
       "      <td>4.17</td>\n",
       "      <td>ctrl</td>\n",
       "    </tr>\n",
       "    <tr>\n",
       "      <th>1</th>\n",
       "      <td>2</td>\n",
       "      <td>5.58</td>\n",
       "      <td>ctrl</td>\n",
       "    </tr>\n",
       "    <tr>\n",
       "      <th>2</th>\n",
       "      <td>3</td>\n",
       "      <td>5.18</td>\n",
       "      <td>ctrl</td>\n",
       "    </tr>\n",
       "    <tr>\n",
       "      <th>3</th>\n",
       "      <td>4</td>\n",
       "      <td>6.11</td>\n",
       "      <td>ctrl</td>\n",
       "    </tr>\n",
       "    <tr>\n",
       "      <th>4</th>\n",
       "      <td>5</td>\n",
       "      <td>4.50</td>\n",
       "      <td>ctrl</td>\n",
       "    </tr>\n",
       "  </tbody>\n",
       "</table>\n",
       "</div>"
      ],
      "text/plain": [
       "   Unnamed: 0  weight group\n",
       "0           1    4.17  ctrl\n",
       "1           2    5.58  ctrl\n",
       "2           3    5.18  ctrl\n",
       "3           4    6.11  ctrl\n",
       "4           5    4.50  ctrl"
      ]
     },
     "execution_count": 3,
     "metadata": {},
     "output_type": "execute_result"
    }
   ],
   "source": [
    "data.head()"
   ]
  },
  {
   "cell_type": "code",
   "execution_count": 4,
   "id": "7110c44d-a5ba-4d39-b13d-a841c5f96019",
   "metadata": {},
   "outputs": [
    {
     "data": {
      "text/plain": [
       "array(['ctrl', 'trt1', 'trt2'], dtype=object)"
      ]
     },
     "execution_count": 4,
     "metadata": {},
     "output_type": "execute_result"
    }
   ],
   "source": [
    "data.group.unique()"
   ]
  },
  {
   "cell_type": "code",
   "execution_count": 5,
   "id": "fc5e47e8-4ec9-4efe-80e2-7d61ad991957",
   "metadata": {},
   "outputs": [
    {
     "data": {
      "text/plain": [
       "<AxesSubplot:title={'center':'weight'}, xlabel='group'>"
      ]
     },
     "execution_count": 5,
     "metadata": {},
     "output_type": "execute_result"
    },
    {
     "data": {
      "image/png": "[encoded data removed]",
      "text/plain": [
       "<Figure size 864x576 with 1 Axes>"
      ]
     },
     "metadata": {
      "needs_background": "light"
     },
     "output_type": "display_data"
    }
   ],
   "source": [
    "data.boxplot('weight', \n",
    "             by=\"group\",\n",
    "             figsize=(12,8))"
   ]
  },
  {
   "cell_type": "code",
   "execution_count": 7,
   "id": "9c561233-3536-4130-980d-ed919c8837ae",
   "metadata": {},
   "outputs": [],
   "source": [
    "grps = pd.unique(data.group.values)\n",
    "d_data = {grp:data['weight'][data.group == grp] for grp in grps}"
   ]
  },
  {
   "cell_type": "code",
   "execution_count": 8,
   "id": "e1f72ef2-0932-4885-b95d-a2973ef5b39b",
   "metadata": {},
   "outputs": [
    {
     "data": {
      "text/plain": [
       "{'ctrl': 0    4.17\n",
       " 1    5.58\n",
       " 2    5.18\n",
       " 3    6.11\n",
       " 4    4.50\n",
       " 5    4.61\n",
       " 6    5.17\n",
       " 7    4.53\n",
       " 8    5.33\n",
       " 9    5.14\n",
       " Name: weight, dtype: float64,\n",
       " 'trt1': 10    4.81\n",
       " 11    4.17\n",
       " 12    4.41\n",
       " 13    3.59\n",
       " 14    5.87\n",
       " 15    3.83\n",
       " 16    6.03\n",
       " 17    4.89\n",
       " 18    4.32\n",
       " 19    4.69\n",
       " Name: weight, dtype: float64,\n",
       " 'trt2': 20    6.31\n",
       " 21    5.12\n",
       " 22    5.54\n",
       " 23    5.50\n",
       " 24    5.37\n",
       " 25    5.29\n",
       " 26    4.92\n",
       " 27    6.15\n",
       " 28    5.80\n",
       " 29    5.26\n",
       " Name: weight, dtype: float64}"
      ]
     },
     "execution_count": 8,
     "metadata": {},
     "output_type": "execute_result"
    }
   ],
   "source": [
    "d_data"
   ]
  },
  {
   "cell_type": "code",
   "execution_count": 9,
   "id": "600b0d8a-0bf0-46dd-bb10-c19eed5aa1f2",
   "metadata": {},
   "outputs": [],
   "source": [
    "from scipy import stats\n",
    "F, p = stats.f_oneway(d_data['ctrl'], d_data['trt1'], d_data['trt2'])"
   ]
  },
  {
   "cell_type": "code",
   "execution_count": 11,
   "id": "bf478e7b-d86a-4a87-ac47-bd9f61b285ab",
   "metadata": {},
   "outputs": [
    {
     "data": {
      "text/plain": [
       "0.0159099583256229"
      ]
     },
     "execution_count": 11,
     "metadata": {},
     "output_type": "execute_result"
    }
   ],
   "source": [
    "p"
   ]
  },
  {
   "cell_type": "markdown",
   "id": "ee4b7356-319e-432b-a27d-21a34ad97cc1",
   "metadata": {},
   "source": [
    "-----"
   ]
  },
  {
   "cell_type": "markdown",
   "id": "5a7fe9f9-6a2a-4a8d-ae83-8d540c89dfff",
   "metadata": {},
   "source": [
    "## Pure Python"
   ]
  },
  {
   "cell_type": "code",
   "execution_count": 29,
   "id": "205ba217-96cf-48a3-a975-3553aab30e9e",
   "metadata": {},
   "outputs": [],
   "source": [
    "k = len(pd.unique(data.group))  # number of conditions\n",
    "N = len(data.values)  # conditions times participants\n",
    "n = data.groupby('group').size()[0] #Participants in each condition\n",
    "\n",
    "DFbetween = k - 1\n",
    "DFwithin = N - k\n",
    "DFtotal = N - 1"
   ]
  },
  {
   "cell_type": "code",
   "execution_count": 30,
   "id": "940320d6-4047-4712-baee-e97382c3a70d",
   "metadata": {},
   "outputs": [],
   "source": [
    "SSbetween = (sum(data.groupby('group').sum()['weight']**2)/n) - (data['weight'].sum()**2)/N"
   ]
  },
  {
   "cell_type": "code",
   "execution_count": 31,
   "id": "2893673c-0bbb-4018-bf5f-018e0aac16bc",
   "metadata": {},
   "outputs": [],
   "source": [
    "sum_y_squared = sum([value**2 for value in data['weight'].values])\n",
    "\n",
    "SSwithin = sum_y_squared - sum(data.groupby('group').sum()['weight']**2)/n"
   ]
  },
  {
   "cell_type": "code",
   "execution_count": 32,
   "id": "71a6558f-44ee-45cb-adca-efc1a7cea7bb",
   "metadata": {},
   "outputs": [],
   "source": [
    "SStotal = sum_y_squared - (data['weight'].sum()**2)/N"
   ]
  },
  {
   "cell_type": "code",
   "execution_count": 33,
   "id": "58826c85-681e-41d5-8552-be715a2ca6bf",
   "metadata": {},
   "outputs": [],
   "source": [
    "MSbetween = SSbetween/DFbetween\n",
    "MSwithin = SSwithin/DFwithin"
   ]
  },
  {
   "cell_type": "code",
   "execution_count": 35,
   "id": "e53c647e-e7c6-4b52-bb97-e513caf792be",
   "metadata": {},
   "outputs": [],
   "source": [
    "F = MSbetween/MSwithin\n",
    "p = stats.f.sf(F, DFbetween, DFwithin)"
   ]
  },
  {
   "cell_type": "code",
   "execution_count": 36,
   "id": "4eee5098-d64d-4fc0-b8a4-17b627e05976",
   "metadata": {},
   "outputs": [],
   "source": [
    "eta_sqrd = SSbetween/SStotal\n",
    "om_sqrd = (SSbetween - (DFbetween * MSwithin))/(SStotal + MSwithin)"
   ]
  },
  {
   "cell_type": "code",
   "execution_count": null,
   "id": "be4ce2f5-3759-4316-b3ad-121953c05e05",
   "metadata": {},
   "outputs": [],
   "source": []
  }
 ],
 "metadata": {
  "kernelspec": {
   "display_name": "mllib2-Python3.7",
   "language": "python",
   "name": "mllib2-python3.7"
  },
  "language_info": {
   "codemirror_mode": {
    "name": "ipython",
    "version": 3
   },
   "file_extension": ".py",
   "mimetype": "text/x-python",
   "name": "python",
   "nbconvert_exporter": "python",
   "pygments_lexer": "ipython3",
   "version": "3.7.9"
  }
 },
 "nbformat": 4,
 "nbformat_minor": 5
}
