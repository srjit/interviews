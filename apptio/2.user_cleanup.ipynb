{
 "cells": [
  {
   "cell_type": "code",
   "execution_count": 1,
   "metadata": {},
   "outputs": [],
   "source": [
    "import utils\n",
    "\n",
    "import os, shutil\n",
    "from datetime import datetime\n",
    "\n",
    "import sqlalchemy\n",
    "from sqlalchemy import create_engine, types\n",
    "from sqlalchemy.dialects.mysql import LONGTEXT\n",
    "\n",
    "import pandas as pd\n",
    "from tqdm import tqdm\n",
    "tqdm.pandas()"
   ]
  },
  {
   "cell_type": "code",
   "execution_count": 2,
   "metadata": {},
   "outputs": [],
   "source": [
    "hostname=\"localhost\"\n",
    "dbname=\"apptio\"\n",
    "uname=\"sreejith\"\n",
    "pwd=\"password\"\n",
    "\n",
    "engine = create_engine(\"mysql+pymysql://{user}:{pw}@{host}/{db}\".format(host=hostname, db=dbname, user=uname, pw=pwd))"
   ]
  },
  {
   "cell_type": "markdown",
   "metadata": {},
   "source": [
    "### Clean the user table\n",
    "---"
   ]
  },
  {
   "cell_type": "code",
   "execution_count": 3,
   "metadata": {},
   "outputs": [],
   "source": [
    "df = pd.read_sql_query(\"select * from users\" , engine)\n",
    "df.drop_duplicates(inplace=True)"
   ]
  },
  {
   "cell_type": "code",
   "execution_count": 4,
   "metadata": {},
   "outputs": [],
   "source": [
    "connection = engine.raw_connection()\n",
    "cursor = connection.cursor()"
   ]
  },
  {
   "cell_type": "code",
   "execution_count": 5,
   "metadata": {},
   "outputs": [
    {
     "data": {
      "text/html": [
       "<div>\n",
       "<style scoped>\n",
       "    .dataframe tbody tr th:only-of-type {\n",
       "        vertical-align: middle;\n",
       "    }\n",
       "\n",
       "    .dataframe tbody tr th {\n",
       "        vertical-align: top;\n",
       "    }\n",
       "\n",
       "    .dataframe thead th {\n",
       "        text-align: right;\n",
       "    }\n",
       "</style>\n",
       "<table border=\"1\" class=\"dataframe\">\n",
       "  <thead>\n",
       "    <tr style=\"text-align: right;\">\n",
       "      <th></th>\n",
       "      <th>user_agent</th>\n",
       "      <th>x_forwarded_for</th>\n",
       "    </tr>\n",
       "  </thead>\n",
       "  <tbody>\n",
       "    <tr>\n",
       "      <th>0</th>\n",
       "      <td>Mozilla/5.0 (Windows NT 5.1) AppleWebKit/537.3...</td>\n",
       "      <td>69.207.104.248</td>\n",
       "    </tr>\n",
       "    <tr>\n",
       "      <th>1</th>\n",
       "      <td>Mozilla/5.0 (X11; CrOS armv7l 7647.84.0) Apple...</td>\n",
       "      <td>99.37.4.61</td>\n",
       "    </tr>\n",
       "    <tr>\n",
       "      <th>2</th>\n",
       "      <td>Mozilla/5.0 (Windows NT 10.0; WOW64) AppleWebK...</td>\n",
       "      <td>68.205.188.176</td>\n",
       "    </tr>\n",
       "    <tr>\n",
       "      <th>3</th>\n",
       "      <td>Mozilla/5.0 (Windows NT 6.1; WOW64) AppleWebKi...</td>\n",
       "      <td>199.94.70.33</td>\n",
       "    </tr>\n",
       "    <tr>\n",
       "      <th>4</th>\n",
       "      <td>Mozilla/5.0 (X11; CrOS x86_64 8350.68.0) Apple...</td>\n",
       "      <td>50.150.90.52</td>\n",
       "    </tr>\n",
       "  </tbody>\n",
       "</table>\n",
       "</div>"
      ],
      "text/plain": [
       "                                          user_agent x_forwarded_for\n",
       "0  Mozilla/5.0 (Windows NT 5.1) AppleWebKit/537.3...  69.207.104.248\n",
       "1  Mozilla/5.0 (X11; CrOS armv7l 7647.84.0) Apple...      99.37.4.61\n",
       "2  Mozilla/5.0 (Windows NT 10.0; WOW64) AppleWebK...  68.205.188.176\n",
       "3  Mozilla/5.0 (Windows NT 6.1; WOW64) AppleWebKi...    199.94.70.33\n",
       "4  Mozilla/5.0 (X11; CrOS x86_64 8350.68.0) Apple...    50.150.90.52"
      ]
     },
     "execution_count": 5,
     "metadata": {},
     "output_type": "execute_result"
    }
   ],
   "source": [
    "df.head()"
   ]
  },
  {
   "cell_type": "code",
   "execution_count": 6,
   "metadata": {},
   "outputs": [],
   "source": [
    "from user_agents import parse\n",
    "\n",
    "\n",
    "\n",
    "def create_user_info_map(ua_string):\n",
    "    \n",
    "    user_agent = parse(ua_string)\n",
    "    return [user_agent.browser[0], \n",
    "            user_agent.os[0],\n",
    "            user_agent.os.version,\n",
    "            user_agent.os.version_string,\n",
    "            user_agent.device[0],\n",
    "            user_agent.device.family,\n",
    "            user_agent.device.brand,\n",
    "            user_agent.device.model,\n",
    "            user_agent.is_mobile,\n",
    "            user_agent.is_tablet,\n",
    "            user_agent.is_pc\n",
    "           ]"
   ]
  },
  {
   "cell_type": "code",
   "execution_count": 7,
   "metadata": {},
   "outputs": [
    {
     "name": "stderr",
     "output_type": "stream",
     "text": [
      "100%|██████████| 25306/25306 [00:13<00:00, 1816.36it/s]\n"
     ]
    }
   ],
   "source": [
    "df[\"user_info\"] = df[\"user_agent\"].progress_apply(create_user_info_map)"
   ]
  },
  {
   "cell_type": "code",
   "execution_count": 8,
   "metadata": {},
   "outputs": [],
   "source": [
    "df[\"Browser\"] = df[\"user_info\"].apply(lambda x: x[0])\n",
    "df[\"OS\"] = df[\"user_info\"].apply(lambda x: x[1])\n",
    "df[\"OS_Version_String\"] = df[\"user_info\"].apply(lambda x: x[3])\n",
    "\n",
    "df[\"Device\"] = df[\"user_info\"].apply(lambda x: x[4])\n",
    "df[\"Device_Family\"] = df[\"user_info\"].apply(lambda x: x[5])\n",
    "df[\"Device_Brand\"] = df[\"user_info\"].apply(lambda x: x[6])\n",
    "df[\"Device_Model\"] = df[\"user_info\"].apply(lambda x: x[7])\n",
    "\n",
    "df[\"Is Mobile\"] = df[\"user_info\"].apply(lambda x: x[8])\n",
    "df[\"Is Tablet\"] = df[\"user_info\"].apply(lambda x: x[9])\n",
    "df[\"Is PC\"] = df[\"user_info\"].apply(lambda x: x[10])"
   ]
  },
  {
   "cell_type": "code",
   "execution_count": 9,
   "metadata": {},
   "outputs": [],
   "source": [
    "del df[\"user_info\"]\n",
    "del df[\"user_agent\"]"
   ]
  },
  {
   "cell_type": "code",
   "execution_count": 10,
   "metadata": {},
   "outputs": [
    {
     "data": {
      "text/html": [
       "<div>\n",
       "<style scoped>\n",
       "    .dataframe tbody tr th:only-of-type {\n",
       "        vertical-align: middle;\n",
       "    }\n",
       "\n",
       "    .dataframe tbody tr th {\n",
       "        vertical-align: top;\n",
       "    }\n",
       "\n",
       "    .dataframe thead th {\n",
       "        text-align: right;\n",
       "    }\n",
       "</style>\n",
       "<table border=\"1\" class=\"dataframe\">\n",
       "  <thead>\n",
       "    <tr style=\"text-align: right;\">\n",
       "      <th></th>\n",
       "      <th>x_forwarded_for</th>\n",
       "      <th>Browser</th>\n",
       "      <th>OS</th>\n",
       "      <th>OS_Version_String</th>\n",
       "      <th>Device</th>\n",
       "      <th>Device_Family</th>\n",
       "      <th>Device_Brand</th>\n",
       "      <th>Device_Model</th>\n",
       "      <th>Is Mobile</th>\n",
       "      <th>Is Tablet</th>\n",
       "      <th>Is PC</th>\n",
       "    </tr>\n",
       "  </thead>\n",
       "  <tbody>\n",
       "    <tr>\n",
       "      <th>0</th>\n",
       "      <td>69.207.104.248</td>\n",
       "      <td>Chrome</td>\n",
       "      <td>Windows</td>\n",
       "      <td>XP</td>\n",
       "      <td>Other</td>\n",
       "      <td>Other</td>\n",
       "      <td>None</td>\n",
       "      <td>None</td>\n",
       "      <td>False</td>\n",
       "      <td>False</td>\n",
       "      <td>True</td>\n",
       "    </tr>\n",
       "    <tr>\n",
       "      <th>1</th>\n",
       "      <td>99.37.4.61</td>\n",
       "      <td>Chrome</td>\n",
       "      <td>Chrome OS</td>\n",
       "      <td>7647.84.0</td>\n",
       "      <td>Other</td>\n",
       "      <td>Other</td>\n",
       "      <td>None</td>\n",
       "      <td>None</td>\n",
       "      <td>False</td>\n",
       "      <td>False</td>\n",
       "      <td>True</td>\n",
       "    </tr>\n",
       "    <tr>\n",
       "      <th>2</th>\n",
       "      <td>68.205.188.176</td>\n",
       "      <td>Chrome</td>\n",
       "      <td>Windows</td>\n",
       "      <td>10</td>\n",
       "      <td>Other</td>\n",
       "      <td>Other</td>\n",
       "      <td>None</td>\n",
       "      <td>None</td>\n",
       "      <td>False</td>\n",
       "      <td>False</td>\n",
       "      <td>True</td>\n",
       "    </tr>\n",
       "    <tr>\n",
       "      <th>3</th>\n",
       "      <td>199.94.70.33</td>\n",
       "      <td>Chrome</td>\n",
       "      <td>Windows</td>\n",
       "      <td>7</td>\n",
       "      <td>Other</td>\n",
       "      <td>Other</td>\n",
       "      <td>None</td>\n",
       "      <td>None</td>\n",
       "      <td>False</td>\n",
       "      <td>False</td>\n",
       "      <td>True</td>\n",
       "    </tr>\n",
       "    <tr>\n",
       "      <th>4</th>\n",
       "      <td>50.150.90.52</td>\n",
       "      <td>Chrome</td>\n",
       "      <td>Chrome OS</td>\n",
       "      <td>8350.68.0</td>\n",
       "      <td>Other</td>\n",
       "      <td>Other</td>\n",
       "      <td>None</td>\n",
       "      <td>None</td>\n",
       "      <td>False</td>\n",
       "      <td>False</td>\n",
       "      <td>True</td>\n",
       "    </tr>\n",
       "  </tbody>\n",
       "</table>\n",
       "</div>"
      ],
      "text/plain": [
       "  x_forwarded_for Browser         OS OS_Version_String Device Device_Family  \\\n",
       "0  69.207.104.248  Chrome    Windows                XP  Other         Other   \n",
       "1      99.37.4.61  Chrome  Chrome OS         7647.84.0  Other         Other   \n",
       "2  68.205.188.176  Chrome    Windows                10  Other         Other   \n",
       "3    199.94.70.33  Chrome    Windows                 7  Other         Other   \n",
       "4    50.150.90.52  Chrome  Chrome OS         8350.68.0  Other         Other   \n",
       "\n",
       "  Device_Brand Device_Model  Is Mobile  Is Tablet  Is PC  \n",
       "0         None         None      False      False   True  \n",
       "1         None         None      False      False   True  \n",
       "2         None         None      False      False   True  \n",
       "3         None         None      False      False   True  \n",
       "4         None         None      False      False   True  "
      ]
     },
     "execution_count": 10,
     "metadata": {},
     "output_type": "execute_result"
    }
   ],
   "source": [
    "df.head()"
   ]
  },
  {
   "cell_type": "code",
   "execution_count": 11,
   "metadata": {},
   "outputs": [],
   "source": [
    "table = \"users_clean\"\n",
    "command = \"DROP TABLE IF EXISTS {};\".format(table)\n",
    "cursor.execute(command)\n",
    "\n",
    "user_type_map = {x:types.TEXT for x in df.columns.tolist()}\n",
    "df.to_sql(name=table, con=engine, dtype=user_type_map, index=False, if_exists='append')"
   ]
  },
  {
   "cell_type": "markdown",
   "metadata": {},
   "source": [
    "----"
   ]
  }
 ],
 "metadata": {
  "kernelspec": {
   "display_name": "ml",
   "language": "python",
   "name": "ml"
  },
  "language_info": {
   "codemirror_mode": {
    "name": "ipython",
    "version": 3
   },
   "file_extension": ".py",
   "mimetype": "text/x-python",
   "name": "python",
   "nbconvert_exporter": "python",
   "pygments_lexer": "ipython3",
   "version": "3.6.9"
  }
 },
 "nbformat": 4,
 "nbformat_minor": 4
}
