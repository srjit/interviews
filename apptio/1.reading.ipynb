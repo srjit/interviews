{
 "cells": [
  {
   "cell_type": "code",
   "execution_count": 1,
   "metadata": {},
   "outputs": [],
   "source": [
    "import utils\n",
    "\n",
    "import os, shutil\n",
    "from datetime import datetime\n",
    "\n",
    "import sqlalchemy\n",
    "from sqlalchemy import create_engine, types\n",
    "from sqlalchemy.dialects.mysql import LONGTEXT\n",
    "\n",
    "import pandas as pd\n",
    "from tqdm import tqdm"
   ]
  },
  {
   "cell_type": "markdown",
   "metadata": {},
   "source": [
    "### Set Variables\n",
    "---"
   ]
  },
  {
   "cell_type": "code",
   "execution_count": 2,
   "metadata": {},
   "outputs": [],
   "source": [
    "# Ideally this has to be read in from a configuration file. \n",
    "# However, reading from a variable for now.\n",
    "\n",
    "root_directory = '/home/sree/code/apptio-data/clickstream_data_2016'\n",
    "log_directory_root = \"log\"\n",
    "start_time = str(datetime.now())[:16]\n",
    "\n",
    "schema_file_name = \"schema.txt\"\n",
    "failed_file_name = \"failed.txt\"\n",
    "success_file_name = \"processed.txt\"\n",
    "\n",
    "\n",
    "hostname=\"localhost\"\n",
    "dbname=\"apptio\"\n",
    "uname=\"sreejith\"\n",
    "pwd=\"password\"\n",
    "table = \"clickthrough_2016_09\"\n",
    "\n",
    "\n",
    "engine = create_engine(\"mysql+pymysql://{user}:{pw}@{host}/{db}\".format(host=hostname, db=dbname, user=uname, pw=pwd))"
   ]
  },
  {
   "cell_type": "code",
   "execution_count": 3,
   "metadata": {},
   "outputs": [],
   "source": [
    "# Create the log folder the current run\n",
    "log_folder = os.path.join(log_directory_root, start_time)\n",
    "if not os.path.exists(log_folder):\n",
    "    os.makedirs(log_folder)"
   ]
  },
  {
   "cell_type": "code",
   "execution_count": 4,
   "metadata": {},
   "outputs": [
    {
     "name": "stderr",
     "output_type": "stream",
     "text": [
      "205it [00:00, 4797.88it/s]\n",
      "100%|██████████| 87/87 [04:56<00:00,  3.40s/it]\n"
     ]
    }
   ],
   "source": [
    "gzip_paths = utils.get_gzip_file_paths(root_directory)\n",
    "schema, successful_paths, failed_paths = utils.find_full_schema(gzip_paths)"
   ]
  },
  {
   "cell_type": "markdown",
   "metadata": {},
   "source": [
    "Note: Every zip file has 36 columns or less. Write the schema to the log directory."
   ]
  },
  {
   "cell_type": "code",
   "execution_count": 5,
   "metadata": {},
   "outputs": [],
   "source": [
    "with open(os.path.join(log_folder, schema_file_name), \"w\") as f:\n",
    "    f.writelines([\"\\n\" + x for x in schema])\n",
    "with open(os.path.join(log_folder, success_file_name), \"w\") as f:\n",
    "    f.writelines([\"\\n\" + x for x in successful_paths])\n",
    "\n",
    "if len(failed_paths) > 0:\n",
    "    with open(os.path.join(log_folder, failed_file_name), \"w\") as f:\n",
    "        f.writelines([\"\\n\" + x for x in failed_paths]) "
   ]
  },
  {
   "cell_type": "markdown",
   "metadata": {},
   "source": [
    "#### Create a database to store the data from the clickthrough table\n",
    "---"
   ]
  },
  {
   "cell_type": "code",
   "execution_count": 6,
   "metadata": {},
   "outputs": [],
   "source": [
    "connection = engine.raw_connection()\n",
    "cursor = connection.cursor()\n",
    "table = \"events\"\n",
    "command = \"DROP TABLE IF EXISTS {};\".format(table)\n",
    "cursor.execute(command)\n",
    "\n",
    "table = \"status\"\n",
    "command = \"DROP TABLE IF EXISTS {};\".format(table)\n",
    "cursor.execute(command)\n",
    "\n",
    "table = \"users\"\n",
    "command = \"DROP TABLE IF EXISTS {};\".format(table)\n",
    "cursor.execute(command)\n",
    "\n",
    "connection.commit()"
   ]
  },
  {
   "cell_type": "code",
   "execution_count": 7,
   "metadata": {},
   "outputs": [
    {
     "name": "stderr",
     "output_type": "stream",
     "text": [
      "100%|██████████| 87/87 [30:25<00:00, 20.98s/it]\n"
     ]
    }
   ],
   "source": [
    "utils.standardize_and_store(successful_paths, schema, table, engine)"
   ]
  },
  {
   "cell_type": "markdown",
   "metadata": {},
   "source": [
    "### Note: \n",
    "IP address and request_datetime can be used as the key to connect users to an event\n",
    "GUID is not a reliable key since the same GUID is being assigned to different people (with different id and different request_datetime)"
   ]
  },
  {
   "cell_type": "code",
   "execution_count": null,
   "metadata": {},
   "outputs": [],
   "source": []
  }
 ],
 "metadata": {
  "kernelspec": {
   "display_name": "ml",
   "language": "python",
   "name": "ml"
  },
  "language_info": {
   "codemirror_mode": {
    "name": "ipython",
    "version": 3
   },
   "file_extension": ".py",
   "mimetype": "text/x-python",
   "name": "python",
   "nbconvert_exporter": "python",
   "pygments_lexer": "ipython3",
   "version": "3.6.9"
  }
 },
 "nbformat": 4,
 "nbformat_minor": 4
}
