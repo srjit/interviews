from typing import List





def plusOne(digits: List[int]) -> List[int]:

        carry = 1
        idx = len(digits) - 1
    
        while carry == 1 and idx > -1:

            sum = digits[idx] + carry
            if sum == 10:
                digits[idx] = 0
                carry = 1
                idx = idx - 1

                if idx < 0:
                    digits.insert(0, 1)
            else: 
                digits[idx] = sum
                carry = 0
        return digits
                
plusOne([9])


def two_digit_addition(a, b, carry):

    a, b, c = int(a), int(b), int(carry)
    sum = a + b + c

    d_ = {0: ('0', '0'), 
          1: ('1', '0'),
          2: ('0', '1'),
          3: ('1', '1')}
    
    return d_[sum]
    
    

def addBinary(a: str, b: str) -> str:


    _a = list(a[::-1])
    _b = list(b[::-1])

    len_a = len(_a)
    len_b = len(_b)

    if len_a >= len_b:
        _b = _b + ['0'] * (len_a - len_b)
    else:
        _a = _a + ['0'] * (len_b - len_a)
    _op = []
    carry = '0'
    for _x, _y in zip(_a, _b):
        sum, carry = two_digit_addition(_x, _y, carry)
        _op.append(sum)

    if carry == '1':
        _op.append(carry)

    op = "".join(_op)[::-1]
    return op

addBinary("1010", "1011")



