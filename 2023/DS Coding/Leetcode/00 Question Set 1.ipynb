{
 "cells": [
  {
   "cell_type": "code",
   "execution_count": 1,
   "id": "de1383bb-54a9-4b49-a103-347075ad91ce",
   "metadata": {},
   "outputs": [],
   "source": [
    "from typing import List"
   ]
  },
  {
   "cell_type": "markdown",
   "id": "481a129c-8b6d-4c9b-b41e-68775a0de5c3",
   "metadata": {},
   "source": [
    "### Plus One"
   ]
  },
  {
   "cell_type": "code",
   "execution_count": 2,
   "id": "ae110e85-62e3-45a3-8604-18a05351d155",
   "metadata": {},
   "outputs": [
    {
     "data": {
      "text/plain": [
       "[1, 0]"
      ]
     },
     "execution_count": 2,
     "metadata": {},
     "output_type": "execute_result"
    }
   ],
   "source": [
    "def plusOne(digits: List[int]) -> List[int]:\n",
    "\n",
    "        carry = 1\n",
    "        idx = len(digits) - 1\n",
    "    \n",
    "        while carry == 1 and idx > -1:\n",
    "\n",
    "            sum = digits[idx] + carry\n",
    "            if sum == 10:\n",
    "                digits[idx] = 0\n",
    "                carry = 1\n",
    "                idx = idx - 1\n",
    "\n",
    "                if idx < 0:\n",
    "                    digits.insert(0, 1)\n",
    "            else: \n",
    "                digits[idx] = sum\n",
    "                carry = 0\n",
    "        return digits\n",
    "                \n",
    "plusOne([9])"
   ]
  },
  {
   "cell_type": "code",
   "execution_count": 3,
   "id": "f34631f2-b612-4f24-b887-e33138a539f8",
   "metadata": {},
   "outputs": [
    {
     "data": {
      "text/plain": [
       "'10101'"
      ]
     },
     "execution_count": 3,
     "metadata": {},
     "output_type": "execute_result"
    }
   ],
   "source": [
    "def two_digit_addition(a, b, carry):\n",
    "\n",
    "    a, b, c = int(a), int(b), int(carry)\n",
    "    sum = a + b + c\n",
    "\n",
    "    d_ = {0: ('0', '0'), \n",
    "          1: ('1', '0'),\n",
    "          2: ('0', '1'),\n",
    "          3: ('1', '1')}\n",
    "    \n",
    "    return d_[sum]\n",
    "    \n",
    "    \n",
    "\n",
    "def addBinary(a: str, b: str) -> str:\n",
    "\n",
    "\n",
    "    _a = list(a[::-1])\n",
    "    _b = list(b[::-1])\n",
    "\n",
    "    len_a = len(_a)\n",
    "    len_b = len(_b)\n",
    "\n",
    "    if len_a >= len_b:\n",
    "        _b = _b + ['0'] * (len_a - len_b)\n",
    "    else:\n",
    "        _a = _a + ['0'] * (len_b - len_a)\n",
    "    _op = []\n",
    "    carry = '0'\n",
    "    for _x, _y in zip(_a, _b):\n",
    "        sum, carry = two_digit_addition(_x, _y, carry)\n",
    "        _op.append(sum)\n",
    "\n",
    "    if carry == '1':\n",
    "        _op.append(carry)\n",
    "\n",
    "    op = \"\".join(_op)[::-1]\n",
    "    return op\n",
    "\n",
    "addBinary(\"1010\", \"1011\")"
   ]
  },
  {
   "cell_type": "markdown",
   "id": "6af3a61a-0db8-4dce-a4c2-6876f2f29994",
   "metadata": {},
   "source": [
    "### Square Root"
   ]
  },
  {
   "cell_type": "code",
   "execution_count": 1,
   "id": "1c9b7d51-cf39-4ba1-b53f-26ace3fa38b0",
   "metadata": {
    "scrolled": true
   },
   "outputs": [
    {
     "name": "stdout",
     "output_type": "stream",
     "text": [
      "2\n"
     ]
    }
   ],
   "source": [
    "def sqrt(x: int) -> int:\n",
    "\n",
    "    left, right = 1, int(x/2)\n",
    "    while left <= right:\n",
    "\n",
    "        mid = (left + right)//2\n",
    "        if mid * mid == x:\n",
    "            return mid\n",
    "        elif mid * mid < x:\n",
    "            left = mid + 1\n",
    "        else:\n",
    "            right = mid - 1 \n",
    "            \n",
    "            \n",
    "    return right\n",
    "        \n",
    "    \n",
    "print(sqrt(5))"
   ]
  },
  {
   "cell_type": "markdown",
   "id": "595d7d2b-b259-4a14-9100-eb58d8970699",
   "metadata": {},
   "source": [
    "### Delete duplicates"
   ]
  },
  {
   "cell_type": "code",
   "execution_count": 13,
   "id": "7b7bd628-789f-4860-b306-dbdbbc971c47",
   "metadata": {},
   "outputs": [
    {
     "name": "stdout",
     "output_type": "stream",
     "text": [
      "Input: \n",
      "1 1 2 2 3 3 \n",
      "================\n",
      " Output: \n",
      "1 2 3 \n"
     ]
    }
   ],
   "source": [
    "from typing import Optional\n",
    "\n",
    "class ListNode:\n",
    "    \n",
    "    def __init__(self, val=0, next=None):\n",
    "        self.val = val\n",
    "        self.next = next\n",
    "\n",
    "    def __str__(self):\n",
    "\n",
    "        op = \"\"\n",
    "        tmp = self\n",
    "        #op = f\"{tmp.val}\"\n",
    "        while(tmp is not None):\n",
    "            op += f\"{tmp.val} \"\n",
    "            tmp = tmp.next\n",
    "        return op\n",
    "            \n",
    "        \n",
    "\n",
    "class Solution:\n",
    "\n",
    "    def deleteDuplicates(self, head: Optional[ListNode]) -> Optional[ListNode]:\n",
    "\n",
    "        if head == None:\n",
    "            return head\n",
    "        else:\n",
    "            prev = head\n",
    "            current = prev.next\n",
    "            while current is not None:\n",
    "                if prev.val == current.val:\n",
    "                    if current.next is None:\n",
    "                        prev.next = None\n",
    "                        current = None\n",
    "                    else:\n",
    "                        # not changing previous here - only changing next\n",
    "                        tmp = current.next\n",
    "                        prev.next = tmp\n",
    "                        current = tmp\n",
    "                else:\n",
    "                    tmp = current.next\n",
    "                    prev = current\n",
    "                    current = tmp\n",
    "                    \n",
    "        return head\n",
    "\n",
    "\n",
    "testcase = [1,1,2,2,3,3]\n",
    "\n",
    "head = ListNode(testcase[0])\n",
    "prev = head\n",
    "for v in testcase[1:]:\n",
    "    tmp = ListNode(v)\n",
    "    prev.next = tmp\n",
    "    prev = tmp\n",
    "\n",
    "print(\"Input: \")\n",
    "print(head)\n",
    "print(\"================\")\n",
    "print(\" Output: \")\n",
    "s = Solution()\n",
    "head = s.deleteDuplicates(head)\n",
    "print(head)"
   ]
  },
  {
   "cell_type": "markdown",
   "id": "24795cca-a637-4a58-8782-66a0d5bc4035",
   "metadata": {},
   "source": [
    "### Merging sorted"
   ]
  },
  {
   "cell_type": "code",
   "execution_count": 16,
   "id": "36d1c773-911a-48da-bb4d-53b9cfa07eea",
   "metadata": {},
   "outputs": [
    {
     "data": {
      "text/plain": [
       "3"
      ]
     },
     "execution_count": 16,
     "metadata": {},
     "output_type": "execute_result"
    }
   ],
   "source": [
    "num1 = [1,3,4,5,6]\n",
    "num2 = 4\n",
    "\n",
    "next(x for x, val in enumerate(num1) if val > num2)"
   ]
  },
  {
   "cell_type": "code",
   "execution_count": 17,
   "id": "c6f5be0c-222c-4e30-b7a4-7c1cd4d6b5f5",
   "metadata": {},
   "outputs": [
    {
     "name": "stdout",
     "output_type": "stream",
     "text": [
      "Help on method_descriptor:\n",
      "\n",
      "insert(self, index, object, /)\n",
      "    Insert object before index.\n",
      "\n"
     ]
    }
   ],
   "source": [
    "help(list.insert)"
   ]
  },
  {
   "cell_type": "code",
   "execution_count": 86,
   "id": "350ca045-64e5-43a6-9eb9-ddaed7b973b1",
   "metadata": {},
   "outputs": [
    {
     "data": {
      "text/plain": [
       "[1, 2, 2, 3, 5, 6]"
      ]
     },
     "execution_count": 86,
     "metadata": {},
     "output_type": "execute_result"
    }
   ],
   "source": [
    "from typing import List\n",
    "\n",
    "class Solution:\n",
    "    \n",
    "    def merge(self, nums1: List[int], m: int, nums2: List[int], n: int) -> None:\n",
    "        \"\"\"\n",
    "        Do not return anything, modify nums1 in-place instead.\n",
    "        \"\"\"\n",
    "\n",
    "        nums1 = nums1[:m]\n",
    "        nums2_idx = 0\n",
    "        idx = 0\n",
    "\n",
    "        while nums2_idx < n and idx < m:\n",
    "            current_num = nums2[nums2_idx]\n",
    "            if current_num < nums1[idx]:\n",
    "                nums1.insert(idx, current_num)\n",
    "                nums2_idx += 1\n",
    "            idx += 1\n",
    "           \n",
    "        nums1 = nums1 + nums2[nums2_idx:]\n",
    "        nums1 = nums1[:m+n+1]\n",
    "            \n",
    "        return nums1\n",
    "\n",
    "s = Solution()\n",
    "nums1, m, nums2, n = [1,2,3,0,0,0], 3, [2,5,6], 3\n",
    "s.merge(nums1, m, nums2, n)"
   ]
  },
  {
   "cell_type": "code",
   "execution_count": 87,
   "id": "35fb89f4-6684-463e-ab6a-87119432e920",
   "metadata": {},
   "outputs": [
    {
     "data": {
      "text/plain": [
       "[1]"
      ]
     },
     "execution_count": 87,
     "metadata": {},
     "output_type": "execute_result"
    }
   ],
   "source": [
    "nums1, m, nums2, n = [0], 0, [1], 1 \n",
    "s.merge(nums1, m, nums2, n)"
   ]
  },
  {
   "cell_type": "code",
   "execution_count": null,
   "id": "f1e2730a-362f-4477-a419-c944e6dc12de",
   "metadata": {},
   "outputs": [],
   "source": []
  }
 ],
 "metadata": {
  "kernelspec": {
   "display_name": "transformers",
   "language": "python",
   "name": "transformers"
  },
  "language_info": {
   "codemirror_mode": {
    "name": "ipython",
    "version": 3
   },
   "file_extension": ".py",
   "mimetype": "text/x-python",
   "name": "python",
   "nbconvert_exporter": "python",
   "pygments_lexer": "ipython3",
   "version": "3.9.9"
  }
 },
 "nbformat": 4,
 "nbformat_minor": 5
}
