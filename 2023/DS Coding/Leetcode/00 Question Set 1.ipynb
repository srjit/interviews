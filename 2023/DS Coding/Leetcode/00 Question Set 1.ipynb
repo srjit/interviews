{
 "cells": [
  {
   "cell_type": "code",
   "execution_count": 2,
   "id": "de1383bb-54a9-4b49-a103-347075ad91ce",
   "metadata": {},
   "outputs": [],
   "source": [
    "from typing import List"
   ]
  },
  {
   "cell_type": "markdown",
   "id": "481a129c-8b6d-4c9b-b41e-68775a0de5c3",
   "metadata": {},
   "source": [
    "### Plus One"
   ]
  },
  {
   "cell_type": "code",
   "execution_count": 26,
   "id": "ae110e85-62e3-45a3-8604-18a05351d155",
   "metadata": {},
   "outputs": [
    {
     "data": {
      "text/plain": [
       "[1, 0]"
      ]
     },
     "execution_count": 26,
     "metadata": {},
     "output_type": "execute_result"
    }
   ],
   "source": [
    "def plusOne(digits: List[int]) -> List[int]:\n",
    "\n",
    "        carry = 1\n",
    "        idx = len(digits) - 1\n",
    "    \n",
    "        while carry == 1 and idx > -1:\n",
    "\n",
    "            sum = digits[idx] + carry\n",
    "            if sum == 10:\n",
    "                digits[idx] = 0\n",
    "                carry = 1\n",
    "                idx = idx - 1\n",
    "\n",
    "                if idx < 0:\n",
    "                    digits.insert(0, 1)\n",
    "            else: \n",
    "                digits[idx] = sum\n",
    "                carry = 0\n",
    "        return digits\n",
    "                \n",
    "plusOne([9])"
   ]
  },
  {
   "cell_type": "code",
   "execution_count": 52,
   "id": "f34631f2-b612-4f24-b887-e33138a539f8",
   "metadata": {},
   "outputs": [
    {
     "data": {
      "text/plain": [
       "'10101'"
      ]
     },
     "execution_count": 52,
     "metadata": {},
     "output_type": "execute_result"
    }
   ],
   "source": [
    "def two_digit_addition(a, b, carry):\n",
    "\n",
    "    a, b, c = int(a), int(b), int(carry)\n",
    "    sum = a + b + c\n",
    "\n",
    "    d_ = {0: ('0', '0'), \n",
    "          1: ('1', '0'),\n",
    "          2: ('0', '1'),\n",
    "          3: ('1', '1')}\n",
    "    \n",
    "    return d_[sum]\n",
    "    \n",
    "    \n",
    "\n",
    "def addBinary(a: str, b: str) -> str:\n",
    "\n",
    "\n",
    "    _a = list(a[::-1])\n",
    "    _b = list(b[::-1])\n",
    "\n",
    "    len_a = len(_a)\n",
    "    len_b = len(_b)\n",
    "\n",
    "    if len_a >= len_b:\n",
    "        _b = _b + ['0'] * (len_a - len_b)\n",
    "    else:\n",
    "        _a = _a + ['0'] * (len_b - len_a)\n",
    "    _op = []\n",
    "    carry = '0'\n",
    "    for _x, _y in zip(_a, _b):\n",
    "        sum, carry = two_digit_addition(_x, _y, carry)\n",
    "        _op.append(sum)\n",
    "\n",
    "    if carry == '1':\n",
    "        _op.append(carry)\n",
    "\n",
    "    op = \"\".join(_op)[::-1]\n",
    "    return op\n",
    "\n",
    "addBinary(\"1010\", \"1011\")"
   ]
  },
  {
   "cell_type": "markdown",
   "id": "6af3a61a-0db8-4dce-a4c2-6876f2f29994",
   "metadata": {},
   "source": [
    "### Square Root"
   ]
  },
  {
   "cell_type": "code",
   "execution_count": 61,
   "id": "1c9b7d51-cf39-4ba1-b53f-26ace3fa38b0",
   "metadata": {},
   "outputs": [
    {
     "data": {
      "text/plain": [
       "2"
      ]
     },
     "execution_count": 61,
     "metadata": {},
     "output_type": "execute_result"
    }
   ],
   "source": [
    "def sqrt(x: int) -> int:\n",
    "\n",
    "    left, right = 1, int(x/2)\n",
    "    while left <= right:\n",
    "\n",
    "        mid = (left + right)//2\n",
    "        if mid * mid == x:\n",
    "            return mid\n",
    "        elif mid * mid < x:\n",
    "            left = mid + 1\n",
    "        else:\n",
    "            right = mid - 1 \n",
    "            \n",
    "            \n",
    "    return right\n",
    "        \n",
    "    \n",
    "sqrt(5)"
   ]
  },
  {
   "cell_type": "code",
   "execution_count": null,
   "id": "7137e824-18fc-4b9a-842a-3603afb41fce",
   "metadata": {},
   "outputs": [],
   "source": []
  }
 ],
 "metadata": {
  "kernelspec": {
   "display_name": "transformers",
   "language": "python",
   "name": "transformers"
  },
  "language_info": {
   "codemirror_mode": {
    "name": "ipython",
    "version": 3
   },
   "file_extension": ".py",
   "mimetype": "text/x-python",
   "name": "python",
   "nbconvert_exporter": "python",
   "pygments_lexer": "ipython3",
   "version": "3.9.9"
  }
 },
 "nbformat": 4,
 "nbformat_minor": 5
}
