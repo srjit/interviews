{
 "cells": [
  {
   "cell_type": "markdown",
   "id": "0c24f886-b752-476e-a1d9-4939f33d3b54",
   "metadata": {
    "tags": []
   },
   "source": [
    "### Simulating a die roll"
   ]
  },
  {
   "cell_type": "code",
   "execution_count": 1,
   "id": "9c686254-052d-411a-8698-bc30cf04d931",
   "metadata": {
    "tags": []
   },
   "outputs": [],
   "source": [
    "import numpy as np\n",
    "\n",
    "\n",
    "outcomes = {\n",
    "    (1,1) : 1,\n",
    "    (1,2) : 2,\n",
    "    (1,3) : 3,\n",
    "    (1,4) : 4,\n",
    "    (1,5) : 5,\n",
    "    (1,6) : 6,\n",
    "    (2,1) : 7,    \n",
    "}\n",
    "\n",
    "def trial():\n",
    "    \n",
    "    r1 = np.random.randint(1,7)\n",
    "    r2 = np.random.randint(1,7)    \n",
    "\n",
    "    if (r1, r2) not in outcomes.keys():\n",
    "        return trial()\n",
    "    else:\n",
    "        return (r1, r2)    \n",
    "    \n",
    "    \n",
    "def experiment(num_trials):\n",
    "\n",
    "    counts = [0] * 7\n",
    "    for i in range(num_trials):\n",
    "\n",
    "        r1, r2 = trial()\n",
    "        outcome = outcomes[(r1,r2)]\n",
    "        counts[outcome-1] += 1   \n",
    "    return [x / num_trials for x in counts]"
   ]
  },
  {
   "cell_type": "code",
   "execution_count": 2,
   "id": "9f41180b-c2a3-491f-a095-25909a1879b7",
   "metadata": {
    "tags": []
   },
   "outputs": [
    {
     "data": {
      "text/plain": [
       "[0.1489, 0.1418, 0.1452, 0.1477, 0.1368, 0.1399, 0.1397]"
      ]
     },
     "execution_count": 2,
     "metadata": {},
     "output_type": "execute_result"
    }
   ],
   "source": [
    "num_trials = int(1e4)\n",
    "experiment(num_trials)"
   ]
  },
  {
   "cell_type": "code",
   "execution_count": 3,
   "id": "9461293b-59cd-4285-9c10-ab32cb1d54d1",
   "metadata": {
    "tags": []
   },
   "outputs": [
    {
     "data": {
      "text/plain": [
       "[0.14311, 0.14375, 0.14321, 0.14207, 0.14193, 0.1448, 0.14113]"
      ]
     },
     "execution_count": 3,
     "metadata": {},
     "output_type": "execute_result"
    }
   ],
   "source": [
    "num_trials = int(1e5)\n",
    "experiment(num_trials)"
   ]
  },
  {
   "cell_type": "code",
   "execution_count": 4,
   "id": "84ce892c-db96-48ff-8dfc-4151da25092a",
   "metadata": {
    "tags": []
   },
   "outputs": [
    {
     "data": {
      "text/plain": [
       "[0.143178, 0.142848, 0.142711, 0.142939, 0.142852, 0.142863, 0.142609]"
      ]
     },
     "execution_count": 4,
     "metadata": {},
     "output_type": "execute_result"
    }
   ],
   "source": [
    "num_trials = int(1e6)\n",
    "experiment(num_trials)"
   ]
  },
  {
   "cell_type": "code",
   "execution_count": null,
   "id": "797986c7-b013-40f3-bb78-5d78ad68ef87",
   "metadata": {},
   "outputs": [],
   "source": []
  }
 ],
 "metadata": {
  "kernelspec": {
   "display_name": "transformers",
   "language": "python",
   "name": "transformers"
  },
  "language_info": {
   "codemirror_mode": {
    "name": "ipython",
    "version": 3
   },
   "file_extension": ".py",
   "mimetype": "text/x-python",
   "name": "python",
   "nbconvert_exporter": "python",
   "pygments_lexer": "ipython3",
   "version": "3.9.9"
  }
 },
 "nbformat": 4,
 "nbformat_minor": 5
}
