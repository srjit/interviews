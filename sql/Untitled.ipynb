{
 "cells": [
  {
   "cell_type": "code",
   "execution_count": 1,
   "id": "6fab52e6-ab3b-42f2-b820-8b1280804e43",
   "metadata": {},
   "outputs": [],
   "source": [
    "import pandas as pd\n",
    "import random\n",
    "from datetime import datetime, timedelta"
   ]
  },
  {
   "cell_type": "code",
   "execution_count": 2,
   "id": "b12e4edc-9cf2-4213-8898-697c80137fe3",
   "metadata": {},
   "outputs": [],
   "source": [
    "start_date = datetime.today() - timedelta(days = 100)\n",
    "end_date = datetime.today()"
   ]
  },
  {
   "cell_type": "code",
   "execution_count": 3,
   "id": "138d0e58-c7df-43da-8f22-52670fcbb408",
   "metadata": {},
   "outputs": [],
   "source": [
    "def get_logged_in_dates(gaps):\n",
    "    \n",
    "    '''\n",
    "    For now gaps are uniformly distributed\n",
    "    '''\n",
    "    id_ = ''.join(random.choice('0123456789ABCDEF') for i in range(7))\n",
    "    df = pd.DataFrame()\n",
    "    df[\"date\"] = [datetime.today() - timedelta(days = n) for n in range(100, 0, -gaps)]\n",
    "    df[\"id\"] = id_\n",
    "    return df"
   ]
  },
  {
   "cell_type": "code",
   "execution_count": 11,
   "id": "9cd6f5e9-1c72-442b-8b6e-8bed6d33849c",
   "metadata": {},
   "outputs": [
    {
     "data": {
      "text/html": [
       "<div>\n",
       "<style scoped>\n",
       "    .dataframe tbody tr th:only-of-type {\n",
       "        vertical-align: middle;\n",
       "    }\n",
       "\n",
       "    .dataframe tbody tr th {\n",
       "        vertical-align: top;\n",
       "    }\n",
       "\n",
       "    .dataframe thead th {\n",
       "        text-align: right;\n",
       "    }\n",
       "</style>\n",
       "<table border=\"1\" class=\"dataframe\">\n",
       "  <thead>\n",
       "    <tr style=\"text-align: right;\">\n",
       "      <th></th>\n",
       "      <th>date</th>\n",
       "      <th>id</th>\n",
       "    </tr>\n",
       "  </thead>\n",
       "  <tbody>\n",
       "    <tr>\n",
       "      <th>0</th>\n",
       "      <td>2021-09-19 17:46:25.996812</td>\n",
       "      <td>B720CAE</td>\n",
       "    </tr>\n",
       "    <tr>\n",
       "      <th>1</th>\n",
       "      <td>2021-09-20 17:46:25.996830</td>\n",
       "      <td>B720CAE</td>\n",
       "    </tr>\n",
       "    <tr>\n",
       "      <th>2</th>\n",
       "      <td>2021-09-21 17:46:25.996833</td>\n",
       "      <td>B720CAE</td>\n",
       "    </tr>\n",
       "    <tr>\n",
       "      <th>3</th>\n",
       "      <td>2021-09-22 17:46:25.996835</td>\n",
       "      <td>B720CAE</td>\n",
       "    </tr>\n",
       "    <tr>\n",
       "      <th>4</th>\n",
       "      <td>2021-09-23 17:46:25.996837</td>\n",
       "      <td>B720CAE</td>\n",
       "    </tr>\n",
       "    <tr>\n",
       "      <th>...</th>\n",
       "      <td>...</td>\n",
       "      <td>...</td>\n",
       "    </tr>\n",
       "    <tr>\n",
       "      <th>95</th>\n",
       "      <td>2021-12-23 17:46:25.997064</td>\n",
       "      <td>B720CAE</td>\n",
       "    </tr>\n",
       "    <tr>\n",
       "      <th>96</th>\n",
       "      <td>2021-12-24 17:46:25.997066</td>\n",
       "      <td>B720CAE</td>\n",
       "    </tr>\n",
       "    <tr>\n",
       "      <th>97</th>\n",
       "      <td>2021-12-25 17:46:25.997067</td>\n",
       "      <td>B720CAE</td>\n",
       "    </tr>\n",
       "    <tr>\n",
       "      <th>98</th>\n",
       "      <td>2021-12-26 17:46:25.997069</td>\n",
       "      <td>B720CAE</td>\n",
       "    </tr>\n",
       "    <tr>\n",
       "      <th>99</th>\n",
       "      <td>2021-12-27 17:46:25.997071</td>\n",
       "      <td>B720CAE</td>\n",
       "    </tr>\n",
       "  </tbody>\n",
       "</table>\n",
       "<p>100 rows × 2 columns</p>\n",
       "</div>"
      ],
      "text/plain": [
       "                         date       id\n",
       "0  2021-09-19 17:46:25.996812  B720CAE\n",
       "1  2021-09-20 17:46:25.996830  B720CAE\n",
       "2  2021-09-21 17:46:25.996833  B720CAE\n",
       "3  2021-09-22 17:46:25.996835  B720CAE\n",
       "4  2021-09-23 17:46:25.996837  B720CAE\n",
       "..                        ...      ...\n",
       "95 2021-12-23 17:46:25.997064  B720CAE\n",
       "96 2021-12-24 17:46:25.997066  B720CAE\n",
       "97 2021-12-25 17:46:25.997067  B720CAE\n",
       "98 2021-12-26 17:46:25.997069  B720CAE\n",
       "99 2021-12-27 17:46:25.997071  B720CAE\n",
       "\n",
       "[100 rows x 2 columns]"
      ]
     },
     "execution_count": 11,
     "metadata": {},
     "output_type": "execute_result"
    }
   ],
   "source": [
    "get_logged_in_dates(1)"
   ]
  },
  {
   "cell_type": "code",
   "execution_count": 9,
   "id": "6a521bd1-1b57-4165-9908-e426b523552b",
   "metadata": {},
   "outputs": [
    {
     "data": {
      "text/plain": [
       "0    2021-09-19\n",
       "1    2021-09-28\n",
       "2    2021-10-07\n",
       "3    2021-10-16\n",
       "4    2021-10-25\n",
       "        ...    \n",
       "4    2021-11-06\n",
       "5    2021-11-18\n",
       "6    2021-11-30\n",
       "7    2021-12-12\n",
       "8    2021-12-24\n",
       "Name: date, Length: 163, dtype: object"
      ]
     },
     "execution_count": 9,
     "metadata": {},
     "output_type": "execute_result"
    }
   ],
   "source": [
    "df = pd.concat([get_logged_in_dates(gap) for gap in [9, 5, 1, 6, 20, 12]])\n",
    "df[\"date\"].apply(lambda x: x.strftime(\"%Y-%m-%d\"))"
   ]
  },
  {
   "cell_type": "code",
   "execution_count": 10,
   "id": "32ead49e-e1b8-4f46-aeb0-8103c8fb5fd7",
   "metadata": {},
   "outputs": [],
   "source": [
    "df.to_csv(\"fb-login-data.csv\", index=None)"
   ]
  },
  {
   "cell_type": "code",
   "execution_count": null,
   "id": "f4377d30-2344-4c2e-9dc0-fab394da56fc",
   "metadata": {},
   "outputs": [],
   "source": []
  }
 ],
 "metadata": {
  "kernelspec": {
   "display_name": "mllib2-Python3.7",
   "language": "python",
   "name": "mllib2-python3.7"
  },
  "language_info": {
   "codemirror_mode": {
    "name": "ipython",
    "version": 3
   },
   "file_extension": ".py",
   "mimetype": "text/x-python",
   "name": "python",
   "nbconvert_exporter": "python",
   "pygments_lexer": "ipython3",
   "version": "3.7.9"
  }
 },
 "nbformat": 4,
 "nbformat_minor": 5
}
