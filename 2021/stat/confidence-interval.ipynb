{
 "cells": [
  {
   "cell_type": "markdown",
   "id": "4302e794-2be9-44ac-bd79-c5a7a6f3e123",
   "metadata": {},
   "source": [
    "## Confidence intervals\n",
    "----"
   ]
  },
  {
   "cell_type": "code",
   "execution_count": 1,
   "id": "9f9ff3cd-34c6-4e34-b4a9-047b8ca34860",
   "metadata": {},
   "outputs": [],
   "source": [
    "import random\n",
    "import numpy as np\n",
    "import matplotlib.pyplot as plt"
   ]
  },
  {
   "cell_type": "code",
   "execution_count": 2,
   "id": "c5e673a2-cb8e-4e2e-b359-dd8eccda28bb",
   "metadata": {},
   "outputs": [],
   "source": [
    "mean = 400\n",
    "stdev = 200/3   # 99.73% chance the sample will fall in your desired range\n",
    "\n",
    "population = [random.gauss(mean, stdev) for _ in range(800)]"
   ]
  },
  {
   "cell_type": "code",
   "execution_count": 3,
   "id": "401ea4d8-a1b0-429c-9da2-c132bea55ef4",
   "metadata": {},
   "outputs": [
    {
     "data": {
      "text/plain": [
       "<BarContainer object of 20 artists>"
      ]
     },
     "execution_count": 3,
     "metadata": {},
     "output_type": "execute_result"
    },
    {
     "data": {
      "image/png": "[encoded data removed]",
      "text/plain": [
       "<Figure size 432x288 with 1 Axes>"
      ]
     },
     "metadata": {
      "needs_background": "light"
     },
     "output_type": "display_data"
    }
   ],
   "source": [
    "H, bins = np.histogram(population, bins=20)\n",
    "plt.bar(bins[:-1],H,width=1)"
   ]
  },
  {
   "cell_type": "code",
   "execution_count": 4,
   "id": "90f8cbff-3617-48b3-ad0b-4e4fae06bef4",
   "metadata": {},
   "outputs": [],
   "source": [
    "N = 25\n",
    "sample = [random.choice(population) for _ in range(N)]"
   ]
  },
  {
   "cell_type": "markdown",
   "id": "23e40482-e293-49a2-aecf-2cd28f3a683d",
   "metadata": {},
   "source": [
    "### Calculate population mean from the sample mean with 95% confidence\n",
    "---"
   ]
  },
  {
   "cell_type": "code",
   "execution_count": 5,
   "id": "665d3b17-5438-4f90-ab33-8d5a163dadb3",
   "metadata": {},
   "outputs": [],
   "source": [
    "sample_mean = np.mean(sample)\n",
    "sample_std = np.std(sample)"
   ]
  },
  {
   "cell_type": "markdown",
   "id": "68ce99c0-8570-4ebf-b1f8-2b20f6c671bc",
   "metadata": {},
   "source": [
    "### Standard Error\n",
    "---"
   ]
  },
  {
   "cell_type": "code",
   "execution_count": 6,
   "id": "2990d34c-bd24-4fb8-8229-a25f49bb2b6c",
   "metadata": {},
   "outputs": [],
   "source": [
    "t_value_95 = 2.060"
   ]
  },
  {
   "cell_type": "code",
   "execution_count": 7,
   "id": "1bb41a20-3f81-4669-ba09-616ef44535d9",
   "metadata": {},
   "outputs": [],
   "source": [
    "std_error = (t_value_95 * sample_std)/np.sqrt(N)"
   ]
  },
  {
   "cell_type": "code",
   "execution_count": 8,
   "id": "6aa3f710-495a-4d43-9967-a973f28f38ab",
   "metadata": {},
   "outputs": [
    {
     "data": {
      "text/plain": [
       "(376.72, 430.35)"
      ]
     },
     "execution_count": 8,
     "metadata": {},
     "output_type": "execute_result"
    }
   ],
   "source": [
    "np.round(sample_mean - std_error, 2), np.round(sample_mean + std_error, 2)"
   ]
  },
  {
   "cell_type": "markdown",
   "id": "03bf2b8d-9967-4b9d-9e78-6b2d618cbcba",
   "metadata": {},
   "source": [
    "---"
   ]
  },
  {
   "cell_type": "code",
   "execution_count": 9,
   "id": "95bacdf1-0acc-4e9f-8837-3a8903350d37",
   "metadata": {},
   "outputs": [
    {
     "data": {
      "text/plain": [
       "(367.26, 439.81)"
      ]
     },
     "execution_count": 9,
     "metadata": {},
     "output_type": "execute_result"
    }
   ],
   "source": [
    "t_value_99 = 2.787\n",
    "std_error = (t_value_99 * sample_std)/np.sqrt(N)\n",
    "np.round(sample_mean - std_error, 2), np.round(sample_mean + std_error, 2)"
   ]
  },
  {
   "cell_type": "markdown",
   "id": "b4efc3c7-6ed9-4718-8756-5aaccb772b5d",
   "metadata": {},
   "source": [
    "**Interval increased when set to 99%**"
   ]
  },
  {
   "cell_type": "markdown",
   "id": "03ca7974-ef43-46be-9100-02cbd420d7f5",
   "metadata": {},
   "source": [
    "### Population Mean\n",
    "---"
   ]
  },
  {
   "cell_type": "code",
   "execution_count": 10,
   "id": "7489f0c7-0c01-4c88-bdcb-3fb0c4a6eca1",
   "metadata": {},
   "outputs": [
    {
     "data": {
      "text/plain": [
       "402.84189495035696"
      ]
     },
     "execution_count": 10,
     "metadata": {},
     "output_type": "execute_result"
    }
   ],
   "source": [
    "np.mean(population)"
   ]
  }
 ],
 "metadata": {
  "kernelspec": {
   "display_name": "mllib2-Python3.7",
   "language": "python",
   "name": "mllib2-python3.7"
  },
  "language_info": {
   "codemirror_mode": {
    "name": "ipython",
    "version": 3
   },
   "file_extension": ".py",
   "mimetype": "text/x-python",
   "name": "python",
   "nbconvert_exporter": "python",
   "pygments_lexer": "ipython3",
   "version": "3.7.9"
  }
 },
 "nbformat": 4,
 "nbformat_minor": 5
}
